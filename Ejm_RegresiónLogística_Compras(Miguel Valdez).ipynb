{
 "cells": [
  {
   "cell_type": "code",
   "execution_count": 5,
   "metadata": {},
   "outputs": [],
   "source": [
    "# Algoritmo de gradient descent\n",
    "class LogisticRegressionGD(object):\n",
    "    \n",
    "    def __init__(self, l_rate = 0.1, n_iter =10000, random_state =1):\n",
    "        self.l_rate = l_rate\n",
    "        self.n_iter = n_iter\n",
    "        self.random_state = random_state               \n",
    "        \n",
    "    def fit(self, X, y):\n",
    "        rgen = np.random.RandomState(self.random_state)        \n",
    "        self.theta = rgen.normal(loc = 0.0, scale = 0.01,\n",
    "                                 size = 1 + X.shape[1])     \n",
    "        for i in range(self.n_iter):\n",
    "            net_input = self.net_input(X)\n",
    "            h = self.sigmoid(net_input)   \n",
    "            errors = y-h\n",
    "            self.theta[1:] += -self.l_rate*X.T.dot(errors) \n",
    "            self.theta[0] += -self.l_rate*errors.sum()          \n",
    "        return self.theta\n",
    "    \n",
    "    def sigmoid(self, z):\n",
    "        return 1. / (1. + np.exp(-np.clip(z, -250, 250)))\n",
    "    \n",
    "    def net_input(self, X):\n",
    "        return np.dot(X, self.theta[1:]) + self.theta[0]\n",
    "    \n",
    "    def predict(self, X):        \n",
    "        return np.where(self.sigmoid(self.net_input(X))>= 0.5, 0, 1)"
   ]
  },
  {
   "cell_type": "code",
   "execution_count": 6,
   "metadata": {},
   "outputs": [],
   "source": [
    "# Importar librerías\n",
    "import numpy as np\n",
    "import pandas as pd\n",
    "import matplotlib.pyplot as plt\n",
    "import sklearn"
   ]
  },
  {
   "cell_type": "code",
   "execution_count": 7,
   "metadata": {},
   "outputs": [],
   "source": [
    "# Importar el dataset de training\n",
    "dataset = pd.read_csv('Social_Network_Ads.csv')\n",
    "dataset['Age'] = dataset['Age'].fillna(dataset['Age'].mean())\n",
    "dataset['EstimatedSalary'] = dataset['EstimatedSalary'].fillna(dataset['EstimatedSalary'].mean())\n",
    "X = dataset.iloc[:len(dataset),[2,3]].values\n",
    "y = dataset.iloc[:len(dataset), -1]"
   ]
  },
  {
   "cell_type": "code",
   "execution_count": 8,
   "metadata": {},
   "outputs": [],
   "source": [
    "# Dividir dataset en conjunto de entrenamiento y conjunto de testing\n",
    "from sklearn.model_selection import train_test_split\n",
    "X_train, X_test, y_train, y_test = train_test_split(X, y, test_size = 0.25, random_state = 0)"
   ]
  },
  {
   "cell_type": "code",
   "execution_count": 9,
   "metadata": {},
   "outputs": [],
   "source": [
    "# Escalado de variables\n",
    "from sklearn.preprocessing import StandardScaler\n",
    "sc_X = StandardScaler()\n",
    "X_train = sc_X.fit_transform(X_train)\n",
    "X_test = sc_X.transform(X_test)"
   ]
  },
  {
   "cell_type": "code",
   "execution_count": 10,
   "metadata": {},
   "outputs": [],
   "source": [
    "# Escalado de variables\n",
    "from sklearn.preprocessing import StandardScaler\n",
    "sc_X = StandardScaler()\n",
    "X_train = sc_X.fit_transform(X_train)\n",
    "X_test = sc_X.transform(X_test)"
   ]
  },
  {
   "cell_type": "code",
   "execution_count": 11,
   "metadata": {},
   "outputs": [],
   "source": [
    "# Aplicación del modelo con gradient descent\n",
    "regression = LogisticRegressionGD(l_rate = 0.0000001, n_iter = 20000)\n",
    "coef = regression.fit(X_train, y_train)\n",
    "y_predict = regression.predict(X_test)"
   ]
  },
  {
   "cell_type": "code",
   "execution_count": 12,
   "metadata": {},
   "outputs": [],
   "source": [
    "# Aplicación del modelo con librería de sklearn\n",
    "from sklearn.linear_model import LogisticRegression\n",
    "logistic = LogisticRegression(random_state = 0)\n",
    "logistic.fit(X_train, y_train)\n",
    "y_predict_py = logistic.predict(X_test)"
   ]
  },
  {
   "cell_type": "code",
   "execution_count": 13,
   "metadata": {},
   "outputs": [],
   "source": [
    "# Matriz de confusión para ver resultados finales\n",
    "from sklearn.metrics import confusion_matrix\n",
    "cm_sklearn = confusion_matrix(y_test, y_predict_py)\n",
    "cm_GD = confusion_matrix(y_test, y_predict)"
   ]
  },
  {
   "cell_type": "code",
   "execution_count": null,
   "metadata": {},
   "outputs": [],
   "source": []
  },
  {
   "cell_type": "code",
   "execution_count": null,
   "metadata": {},
   "outputs": [],
   "source": []
  }
 ],
 "metadata": {
  "kernelspec": {
   "display_name": "Python 3",
   "language": "python",
   "name": "python3"
  },
  "language_info": {
   "codemirror_mode": {
    "name": "ipython",
    "version": 3
   },
   "file_extension": ".py",
   "mimetype": "text/x-python",
   "name": "python",
   "nbconvert_exporter": "python",
   "pygments_lexer": "ipython3",
   "version": "3.8.1"
  }
 },
 "nbformat": 4,
 "nbformat_minor": 4
}
